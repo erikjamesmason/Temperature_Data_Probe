{
 "cells": [
  {
   "cell_type": "code",
   "execution_count": 11,
   "metadata": {},
   "outputs": [],
   "source": [
    "# import extensions\n",
    "\n",
    "import pandas as pd\n",
    "import numpy as np\n",
    "import pathlib\n",
    "import os"
   ]
  },
  {
   "cell_type": "code",
   "execution_count": null,
   "metadata": {},
   "outputs": [],
   "source": [
    "#TODO\n",
    "\"\"\"\n",
    "\n",
    "folder = r'C:\\Users\\TRHislop\\Documents\\GitHub\\Temperature_Data_Probe' -\n",
    "\n",
    "If files are in Github repo (and should be ignored in .gitignore file), this can be reduced to just <folder = r'..\\Temperature_Data_Probe'>\n",
    "\n",
    "\"\"\""
   ]
  },
  {
   "cell_type": "code",
   "execution_count": 12,
   "metadata": {},
   "outputs": [],
   "source": [
    "# dataframe filepath\n",
    "\n",
    "folder = r'C:\\Users\\TRHislop\\Documents\\GitHub\\Temperature_Data_Probe'"
   ]
  },
  {
   "cell_type": "code",
   "execution_count": 28,
   "metadata": {},
   "outputs": [],
   "source": [
    "# alternate dataframe filepath\n",
    "\n",
    "# folder = r'..\\Temperature_Data_Probe'"
   ]
  },
  {
   "cell_type": "code",
   "execution_count": 13,
   "metadata": {},
   "outputs": [],
   "source": [
    "# establish .csv variable\n",
    "\n",
    "df_list = []\n",
    "for file in os.listdir(folder):\n",
    "    if file.endswith('.csv'):\n",
    "        df = pd.read_csv(os.path.join(folder,file), index_col=None, header=0)\n",
    "        df_list.append(df)"
   ]
  },
  {
   "cell_type": "code",
   "execution_count": 14,
   "metadata": {},
   "outputs": [],
   "source": [
    "# establish concatenated .csv and positional arguments\n",
    "\n",
    "df_all = pd.concat(df_list, axis=0, ignore_index=True)"
   ]
  },
  {
   "cell_type": "code",
   "execution_count": 15,
   "metadata": {},
   "outputs": [],
   "source": [
    "# establish data frame variable for Moose Pass Station (# 128)\n",
    "\n",
    "df_128_all = df_all.loc[df_all['SITE_NUMBER']==128]"
   ]
  },
  {
   "cell_type": "code",
   "execution_count": 16,
   "metadata": {},
   "outputs": [],
   "source": [
    "# clarify df parameters with neccessary columns and 18' level datapoint\n",
    "\n",
    "df_128_all_18 = df_128_all[['SITE_NUMBER', 'OBSERVATION_TIME', 'TMR_SUB_18']]"
   ]
  },
  {
   "cell_type": "code",
   "execution_count": 17,
   "metadata": {},
   "outputs": [
    {
     "name": "stderr",
     "output_type": "stream",
     "text": [
      "C:\\Users\\TRHislop\\Anaconda3\\lib\\site-packages\\pandas\\core\\generic.py:5303: SettingWithCopyWarning: \n",
      "A value is trying to be set on a copy of a slice from a DataFrame.\n",
      "Try using .loc[row_indexer,col_indexer] = value instead\n",
      "\n",
      "See the caveats in the documentation: https://pandas.pydata.org/pandas-docs/stable/user_guide/indexing.html#returning-a-view-versus-a-copy\n",
      "  self[name] = value\n"
     ]
    }
   ],
   "source": [
    "#\n",
    "\n",
    "df_128_all_18.OBSERVATION_TIME = pd.to_datetime(df_128_all_18['OBSERVATION_TIME'])"
   ]
  },
  {
   "cell_type": "code",
   "execution_count": 18,
   "metadata": {},
   "outputs": [
    {
     "name": "stderr",
     "output_type": "stream",
     "text": [
      "<ipython-input-18-f6cb5bdb02e3>:3: SettingWithCopyWarning: \n",
      "A value is trying to be set on a copy of a slice from a DataFrame.\n",
      "Try using .loc[row_indexer,col_indexer] = value instead\n",
      "\n",
      "See the caveats in the documentation: https://pandas.pydata.org/pandas-docs/stable/user_guide/indexing.html#returning-a-view-versus-a-copy\n",
      "  df_128_all_18['year'] = df_128_all_18.OBSERVATION_TIME.dt.year\n",
      "<ipython-input-18-f6cb5bdb02e3>:4: SettingWithCopyWarning: \n",
      "A value is trying to be set on a copy of a slice from a DataFrame.\n",
      "Try using .loc[row_indexer,col_indexer] = value instead\n",
      "\n",
      "See the caveats in the documentation: https://pandas.pydata.org/pandas-docs/stable/user_guide/indexing.html#returning-a-view-versus-a-copy\n",
      "  df_128_all_18['month'] = df_128_all_18.OBSERVATION_TIME.dt.month\n"
     ]
    }
   ],
   "source": [
    "#\n",
    "\n",
    "df_128_all_18['year'] = df_128_all_18.OBSERVATION_TIME.dt.year\n",
    "df_128_all_18['month'] = df_128_all_18.OBSERVATION_TIME.dt.month"
   ]
  },
  {
   "cell_type": "code",
   "execution_count": 35,
   "metadata": {},
   "outputs": [],
   "source": [
    "##OPTIONAL - remove max rows and columns for analysis \n",
    "\n",
    "# pd.set_option('display.max_rows', None)\n",
    "# pd.set_option('display.max_columns', None)"
   ]
  },
  {
   "cell_type": "code",
   "execution_count": 19,
   "metadata": {},
   "outputs": [],
   "source": [
    "# establish Mean values in new variable\n",
    "\n",
    "df_128_all_18_group = df_128_all_18.groupby(['SITE_NUMBER', 'year', 'month']).mean().reset_index()"
   ]
  },
  {
   "cell_type": "code",
   "execution_count": 28,
   "metadata": {},
   "outputs": [
    {
     "data": {
      "text/html": [
       "<div>\n",
       "<style scoped>\n",
       "    .dataframe tbody tr th:only-of-type {\n",
       "        vertical-align: middle;\n",
       "    }\n",
       "\n",
       "    .dataframe tbody tr th {\n",
       "        vertical-align: top;\n",
       "    }\n",
       "\n",
       "    .dataframe thead th {\n",
       "        text-align: right;\n",
       "    }\n",
       "</style>\n",
       "<table border=\"1\" class=\"dataframe\">\n",
       "  <thead>\n",
       "    <tr style=\"text-align: right;\">\n",
       "      <th></th>\n",
       "      <th>SITE_NUMBER</th>\n",
       "      <th>year</th>\n",
       "      <th>month</th>\n",
       "      <th>TMR_SUB_18</th>\n",
       "    </tr>\n",
       "  </thead>\n",
       "  <tbody>\n",
       "    <tr>\n",
       "      <th>0</th>\n",
       "      <td>128</td>\n",
       "      <td>2003</td>\n",
       "      <td>1</td>\n",
       "      <td>30.859091</td>\n",
       "    </tr>\n",
       "    <tr>\n",
       "      <th>1</th>\n",
       "      <td>128</td>\n",
       "      <td>2003</td>\n",
       "      <td>2</td>\n",
       "      <td>31.474420</td>\n",
       "    </tr>\n",
       "    <tr>\n",
       "      <th>2</th>\n",
       "      <td>128</td>\n",
       "      <td>2003</td>\n",
       "      <td>3</td>\n",
       "      <td>28.155941</td>\n",
       "    </tr>\n",
       "    <tr>\n",
       "      <th>3</th>\n",
       "      <td>128</td>\n",
       "      <td>2003</td>\n",
       "      <td>4</td>\n",
       "      <td>37.174778</td>\n",
       "    </tr>\n",
       "    <tr>\n",
       "      <th>4</th>\n",
       "      <td>128</td>\n",
       "      <td>2003</td>\n",
       "      <td>5</td>\n",
       "      <td>54.594704</td>\n",
       "    </tr>\n",
       "    <tr>\n",
       "      <th>...</th>\n",
       "      <td>...</td>\n",
       "      <td>...</td>\n",
       "      <td>...</td>\n",
       "      <td>...</td>\n",
       "    </tr>\n",
       "    <tr>\n",
       "      <th>150</th>\n",
       "      <td>128</td>\n",
       "      <td>2017</td>\n",
       "      <td>8</td>\n",
       "      <td>59.605650</td>\n",
       "    </tr>\n",
       "    <tr>\n",
       "      <th>151</th>\n",
       "      <td>128</td>\n",
       "      <td>2017</td>\n",
       "      <td>9</td>\n",
       "      <td>50.956111</td>\n",
       "    </tr>\n",
       "    <tr>\n",
       "      <th>152</th>\n",
       "      <td>128</td>\n",
       "      <td>2017</td>\n",
       "      <td>10</td>\n",
       "      <td>41.099933</td>\n",
       "    </tr>\n",
       "    <tr>\n",
       "      <th>153</th>\n",
       "      <td>128</td>\n",
       "      <td>2017</td>\n",
       "      <td>11</td>\n",
       "      <td>29.012809</td>\n",
       "    </tr>\n",
       "    <tr>\n",
       "      <th>154</th>\n",
       "      <td>128</td>\n",
       "      <td>2017</td>\n",
       "      <td>12</td>\n",
       "      <td>28.333132</td>\n",
       "    </tr>\n",
       "  </tbody>\n",
       "</table>\n",
       "<p>155 rows × 4 columns</p>\n",
       "</div>"
      ],
      "text/plain": [
       "     SITE_NUMBER  year  month  TMR_SUB_18\n",
       "0            128  2003      1   30.859091\n",
       "1            128  2003      2   31.474420\n",
       "2            128  2003      3   28.155941\n",
       "3            128  2003      4   37.174778\n",
       "4            128  2003      5   54.594704\n",
       "..           ...   ...    ...         ...\n",
       "150          128  2017      8   59.605650\n",
       "151          128  2017      9   50.956111\n",
       "152          128  2017     10   41.099933\n",
       "153          128  2017     11   29.012809\n",
       "154          128  2017     12   28.333132\n",
       "\n",
       "[155 rows x 4 columns]"
      ]
     },
     "execution_count": 28,
     "metadata": {},
     "output_type": "execute_result"
    }
   ],
   "source": [
    "# display full group\n",
    "\n",
    "df_128_all_18_group\n"
   ]
  },
  {
   "cell_type": "code",
   "execution_count": 21,
   "metadata": {},
   "outputs": [],
   "source": [
    "# designate 128_all_18 as df with rounding using dict command\n",
    "\n",
    "df = df_128_all_18_group.round({'TMR_SUB_18': 2})\n",
    "\n",
    "# alternate method for rounding\n",
    "\n",
    "# df_128_all_18_group.TMR_SUB_18.round(2)"
   ]
  },
  {
   "cell_type": "code",
   "execution_count": 24,
   "metadata": {},
   "outputs": [
    {
     "data": {
      "text/html": [
       "<div>\n",
       "<style scoped>\n",
       "    .dataframe tbody tr th:only-of-type {\n",
       "        vertical-align: middle;\n",
       "    }\n",
       "\n",
       "    .dataframe tbody tr th {\n",
       "        vertical-align: top;\n",
       "    }\n",
       "\n",
       "    .dataframe thead th {\n",
       "        text-align: right;\n",
       "    }\n",
       "</style>\n",
       "<table border=\"1\" class=\"dataframe\">\n",
       "  <thead>\n",
       "    <tr style=\"text-align: right;\">\n",
       "      <th></th>\n",
       "      <th>SITE_NUMBER</th>\n",
       "      <th>year</th>\n",
       "      <th>month</th>\n",
       "      <th>TMR_SUB_18</th>\n",
       "    </tr>\n",
       "  </thead>\n",
       "  <tbody>\n",
       "    <tr>\n",
       "      <th>0</th>\n",
       "      <td>128</td>\n",
       "      <td>2003</td>\n",
       "      <td>1</td>\n",
       "      <td>30.86</td>\n",
       "    </tr>\n",
       "    <tr>\n",
       "      <th>1</th>\n",
       "      <td>128</td>\n",
       "      <td>2003</td>\n",
       "      <td>2</td>\n",
       "      <td>31.47</td>\n",
       "    </tr>\n",
       "    <tr>\n",
       "      <th>2</th>\n",
       "      <td>128</td>\n",
       "      <td>2003</td>\n",
       "      <td>3</td>\n",
       "      <td>28.16</td>\n",
       "    </tr>\n",
       "    <tr>\n",
       "      <th>3</th>\n",
       "      <td>128</td>\n",
       "      <td>2003</td>\n",
       "      <td>4</td>\n",
       "      <td>37.17</td>\n",
       "    </tr>\n",
       "    <tr>\n",
       "      <th>4</th>\n",
       "      <td>128</td>\n",
       "      <td>2003</td>\n",
       "      <td>5</td>\n",
       "      <td>54.59</td>\n",
       "    </tr>\n",
       "    <tr>\n",
       "      <th>...</th>\n",
       "      <td>...</td>\n",
       "      <td>...</td>\n",
       "      <td>...</td>\n",
       "      <td>...</td>\n",
       "    </tr>\n",
       "    <tr>\n",
       "      <th>150</th>\n",
       "      <td>128</td>\n",
       "      <td>2017</td>\n",
       "      <td>8</td>\n",
       "      <td>59.61</td>\n",
       "    </tr>\n",
       "    <tr>\n",
       "      <th>151</th>\n",
       "      <td>128</td>\n",
       "      <td>2017</td>\n",
       "      <td>9</td>\n",
       "      <td>50.96</td>\n",
       "    </tr>\n",
       "    <tr>\n",
       "      <th>152</th>\n",
       "      <td>128</td>\n",
       "      <td>2017</td>\n",
       "      <td>10</td>\n",
       "      <td>41.10</td>\n",
       "    </tr>\n",
       "    <tr>\n",
       "      <th>153</th>\n",
       "      <td>128</td>\n",
       "      <td>2017</td>\n",
       "      <td>11</td>\n",
       "      <td>29.01</td>\n",
       "    </tr>\n",
       "    <tr>\n",
       "      <th>154</th>\n",
       "      <td>128</td>\n",
       "      <td>2017</td>\n",
       "      <td>12</td>\n",
       "      <td>28.33</td>\n",
       "    </tr>\n",
       "  </tbody>\n",
       "</table>\n",
       "<p>155 rows × 4 columns</p>\n",
       "</div>"
      ],
      "text/plain": [
       "     SITE_NUMBER  year  month  TMR_SUB_18\n",
       "0            128  2003      1       30.86\n",
       "1            128  2003      2       31.47\n",
       "2            128  2003      3       28.16\n",
       "3            128  2003      4       37.17\n",
       "4            128  2003      5       54.59\n",
       "..           ...   ...    ...         ...\n",
       "150          128  2017      8       59.61\n",
       "151          128  2017      9       50.96\n",
       "152          128  2017     10       41.10\n",
       "153          128  2017     11       29.01\n",
       "154          128  2017     12       28.33\n",
       "\n",
       "[155 rows x 4 columns]"
      ]
     },
     "execution_count": 24,
     "metadata": {},
     "output_type": "execute_result"
    }
   ],
   "source": [
    "df"
   ]
  },
  {
   "cell_type": "code",
   "execution_count": 27,
   "metadata": {},
   "outputs": [],
   "source": [
    "# export to csv with null index\n",
    "\n",
    "df.to_csv('Moose_Pass_Sub_18_all.csv', index=False)"
   ]
  },
  {
   "cell_type": "code",
   "execution_count": 29,
   "metadata": {},
   "outputs": [],
   "source": [
    "# Next Steps\n",
    "\n",
    "## evaluate rounded values for coherency with Matt's sheet\n",
    "## examine notable null values \n",
    "## assess if further analysis is needed to clean up new .csv for coherency with Matt's sheet"
   ]
  },
  {
   "cell_type": "code",
   "execution_count": null,
   "metadata": {},
   "outputs": [],
   "source": []
  }
 ],
 "metadata": {
  "kernelspec": {
   "display_name": "Python 3",
   "language": "python",
   "name": "python3"
  },
  "language_info": {
   "codemirror_mode": {
    "name": "ipython",
    "version": 3
   },
   "file_extension": ".py",
   "mimetype": "text/x-python",
   "name": "python",
   "nbconvert_exporter": "python",
   "pygments_lexer": "ipython3",
   "version": "3.8.3"
  }
 },
 "nbformat": 4,
 "nbformat_minor": 4
}
