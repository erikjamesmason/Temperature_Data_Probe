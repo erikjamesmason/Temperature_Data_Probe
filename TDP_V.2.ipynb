{
 "cells": [
  {
   "cell_type": "code",
   "execution_count": 1,
   "metadata": {},
   "outputs": [],
   "source": [
    "# import extensions\n",
    "\n",
    "import pandas as pd\n",
    "import numpy as np\n",
    "import pathlib\n",
    "import os"
   ]
  },
  {
   "cell_type": "code",
   "execution_count": 2,
   "metadata": {},
   "outputs": [],
   "source": [
    "# dataframe filepath\n",
    "\n",
    "folder = r'C:\\Users\\TRHislop\\Documents\\GitHub\\Temperature_Data_Probe'"
   ]
  },
  {
   "cell_type": "code",
   "execution_count": 3,
   "metadata": {},
   "outputs": [],
   "source": [
    "# establish .csv variable\n",
    "\n",
    "df_list = []\n",
    "for file in os.listdir(folder):\n",
    "    if file.endswith('.csv'):\n",
    "        df = pd.read_csv(os.path.join(folder,file), index_col=None, header=0)\n",
    "        df_list.append(df)"
   ]
  },
  {
   "cell_type": "code",
   "execution_count": 4,
   "metadata": {},
   "outputs": [],
   "source": [
    "# establish concatenated .csv and positional arguments\n",
    "\n",
    "df_all = pd.concat(df_list, axis=0, ignore_index=True)"
   ]
  },
  {
   "cell_type": "code",
   "execution_count": 5,
   "metadata": {},
   "outputs": [],
   "source": [
    "# establish data frame variable for Moose Pass Station (# 128)\n",
    "\n",
    "df_128_all = df_all.loc[df_all['SITE_NUMBER']==128]"
   ]
  },
  {
   "cell_type": "code",
   "execution_count": 6,
   "metadata": {},
   "outputs": [],
   "source": [
    "# clarify df parameters with neccessary columns and 18' level datapoint\n",
    "\n",
    "df_128_all_18 = df_128_all[['SITE_NUMBER', 'OBSERVATION_TIME', 'TMR_SUB_18']]"
   ]
  },
  {
   "cell_type": "code",
   "execution_count": 7,
   "metadata": {},
   "outputs": [
    {
     "name": "stderr",
     "output_type": "stream",
     "text": [
      "C:\\Users\\TRHislop\\Anaconda3\\lib\\site-packages\\pandas\\core\\generic.py:5303: SettingWithCopyWarning: \n",
      "A value is trying to be set on a copy of a slice from a DataFrame.\n",
      "Try using .loc[row_indexer,col_indexer] = value instead\n",
      "\n",
      "See the caveats in the documentation: https://pandas.pydata.org/pandas-docs/stable/user_guide/indexing.html#returning-a-view-versus-a-copy\n",
      "  self[name] = value\n"
     ]
    }
   ],
   "source": [
    "#\n",
    "\n",
    "df_128_all_18.OBSERVATION_TIME = pd.to_datetime(df_128_all_18['OBSERVATION_TIME'])"
   ]
  },
  {
   "cell_type": "code",
   "execution_count": 8,
   "metadata": {},
   "outputs": [
    {
     "name": "stderr",
     "output_type": "stream",
     "text": [
      "<ipython-input-8-f6cb5bdb02e3>:3: SettingWithCopyWarning: \n",
      "A value is trying to be set on a copy of a slice from a DataFrame.\n",
      "Try using .loc[row_indexer,col_indexer] = value instead\n",
      "\n",
      "See the caveats in the documentation: https://pandas.pydata.org/pandas-docs/stable/user_guide/indexing.html#returning-a-view-versus-a-copy\n",
      "  df_128_all_18['year'] = df_128_all_18.OBSERVATION_TIME.dt.year\n",
      "<ipython-input-8-f6cb5bdb02e3>:4: SettingWithCopyWarning: \n",
      "A value is trying to be set on a copy of a slice from a DataFrame.\n",
      "Try using .loc[row_indexer,col_indexer] = value instead\n",
      "\n",
      "See the caveats in the documentation: https://pandas.pydata.org/pandas-docs/stable/user_guide/indexing.html#returning-a-view-versus-a-copy\n",
      "  df_128_all_18['month'] = df_128_all_18.OBSERVATION_TIME.dt.month\n"
     ]
    }
   ],
   "source": [
    "#\n",
    "\n",
    "df_128_all_18['year'] = df_128_all_18.OBSERVATION_TIME.dt.year\n",
    "df_128_all_18['month'] = df_128_all_18.OBSERVATION_TIME.dt.month"
   ]
  },
  {
   "cell_type": "code",
   "execution_count": 10,
   "metadata": {},
   "outputs": [],
   "source": [
    "##OPTIONAL - remove max rows and columns for analysis \n",
    "\n",
    "# pd.set_option('display.max_rows', None)\n",
    "# pd.set_option('display.max_columns', None)"
   ]
  },
  {
   "cell_type": "code",
   "execution_count": 11,
   "metadata": {},
   "outputs": [],
   "source": [
    "# establish Mean values in new variable\n",
    "\n",
    "df_128_all_18_group = df_128_all_18.groupby(['SITE_NUMBER', 'year', 'month']).mean().reset_index()"
   ]
  },
  {
   "cell_type": "code",
   "execution_count": 12,
   "metadata": {},
   "outputs": [
    {
     "data": {
      "text/html": [
       "<div>\n",
       "<style scoped>\n",
       "    .dataframe tbody tr th:only-of-type {\n",
       "        vertical-align: middle;\n",
       "    }\n",
       "\n",
       "    .dataframe tbody tr th {\n",
       "        vertical-align: top;\n",
       "    }\n",
       "\n",
       "    .dataframe thead th {\n",
       "        text-align: right;\n",
       "    }\n",
       "</style>\n",
       "<table border=\"1\" class=\"dataframe\">\n",
       "  <thead>\n",
       "    <tr style=\"text-align: right;\">\n",
       "      <th></th>\n",
       "      <th>SITE_NUMBER</th>\n",
       "      <th>year</th>\n",
       "      <th>month</th>\n",
       "      <th>TMR_SUB_18</th>\n",
       "    </tr>\n",
       "  </thead>\n",
       "  <tbody>\n",
       "    <tr>\n",
       "      <th>0</th>\n",
       "      <td>128</td>\n",
       "      <td>2017</td>\n",
       "      <td>1</td>\n",
       "      <td>17.045228</td>\n",
       "    </tr>\n",
       "    <tr>\n",
       "      <th>1</th>\n",
       "      <td>128</td>\n",
       "      <td>2017</td>\n",
       "      <td>2</td>\n",
       "      <td>21.663304</td>\n",
       "    </tr>\n",
       "    <tr>\n",
       "      <th>2</th>\n",
       "      <td>128</td>\n",
       "      <td>2017</td>\n",
       "      <td>3</td>\n",
       "      <td>18.020887</td>\n",
       "    </tr>\n",
       "    <tr>\n",
       "      <th>3</th>\n",
       "      <td>128</td>\n",
       "      <td>2017</td>\n",
       "      <td>4</td>\n",
       "      <td>34.862319</td>\n",
       "    </tr>\n",
       "    <tr>\n",
       "      <th>4</th>\n",
       "      <td>128</td>\n",
       "      <td>2017</td>\n",
       "      <td>5</td>\n",
       "      <td>45.041801</td>\n",
       "    </tr>\n",
       "    <tr>\n",
       "      <th>5</th>\n",
       "      <td>128</td>\n",
       "      <td>2017</td>\n",
       "      <td>6</td>\n",
       "      <td>54.781222</td>\n",
       "    </tr>\n",
       "    <tr>\n",
       "      <th>6</th>\n",
       "      <td>128</td>\n",
       "      <td>2017</td>\n",
       "      <td>7</td>\n",
       "      <td>60.284745</td>\n",
       "    </tr>\n",
       "    <tr>\n",
       "      <th>7</th>\n",
       "      <td>128</td>\n",
       "      <td>2017</td>\n",
       "      <td>8</td>\n",
       "      <td>59.605650</td>\n",
       "    </tr>\n",
       "    <tr>\n",
       "      <th>8</th>\n",
       "      <td>128</td>\n",
       "      <td>2017</td>\n",
       "      <td>9</td>\n",
       "      <td>50.956111</td>\n",
       "    </tr>\n",
       "    <tr>\n",
       "      <th>9</th>\n",
       "      <td>128</td>\n",
       "      <td>2017</td>\n",
       "      <td>10</td>\n",
       "      <td>41.099933</td>\n",
       "    </tr>\n",
       "    <tr>\n",
       "      <th>10</th>\n",
       "      <td>128</td>\n",
       "      <td>2017</td>\n",
       "      <td>11</td>\n",
       "      <td>29.012809</td>\n",
       "    </tr>\n",
       "    <tr>\n",
       "      <th>11</th>\n",
       "      <td>128</td>\n",
       "      <td>2017</td>\n",
       "      <td>12</td>\n",
       "      <td>28.333132</td>\n",
       "    </tr>\n",
       "  </tbody>\n",
       "</table>\n",
       "</div>"
      ],
      "text/plain": [
       "    SITE_NUMBER  year  month  TMR_SUB_18\n",
       "0           128  2017      1   17.045228\n",
       "1           128  2017      2   21.663304\n",
       "2           128  2017      3   18.020887\n",
       "3           128  2017      4   34.862319\n",
       "4           128  2017      5   45.041801\n",
       "5           128  2017      6   54.781222\n",
       "6           128  2017      7   60.284745\n",
       "7           128  2017      8   59.605650\n",
       "8           128  2017      9   50.956111\n",
       "9           128  2017     10   41.099933\n",
       "10          128  2017     11   29.012809\n",
       "11          128  2017     12   28.333132"
      ]
     },
     "execution_count": 12,
     "metadata": {},
     "output_type": "execute_result"
    }
   ],
   "source": [
    "# display full group\n",
    "\n",
    "df_128_all_18_group"
   ]
  },
  {
   "cell_type": "code",
   "execution_count": null,
   "metadata": {},
   "outputs": [],
   "source": [
    "# Next steps\n",
    "\n",
    "# troubleshoot date/time arguments before\n",
    "\n",
    "# reduce decimal value\n",
    "\n",
    "# export function\n",
    "\n",
    "# evaluate new file for coherency \n",
    "\n",
    "# "
   ]
  }
 ],
 "metadata": {
  "kernelspec": {
   "display_name": "Python 3",
   "language": "python",
   "name": "python3"
  },
  "language_info": {
   "codemirror_mode": {
    "name": "ipython",
    "version": 3
   },
   "file_extension": ".py",
   "mimetype": "text/x-python",
   "name": "python",
   "nbconvert_exporter": "python",
   "pygments_lexer": "ipython3",
   "version": "3.8.3"
  }
 },
 "nbformat": 4,
 "nbformat_minor": 4
}
